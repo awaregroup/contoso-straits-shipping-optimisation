{
  "cells": [
    {
      "cell_type": "code",
      "source": [
        "from typing import List\n",
        "from azure.quantum.optimization import Problem, ProblemType, Term\n",
        "import numpy as np\n",
        "from itertools import combinations\n",
        "from azure.quantum.optimization import ParallelTempering, SimulatedAnnealing, Tabu, QuantumMonteCarlo\n",
        "\n",
        "# This allows you to connect to the Workspace you've previously deployed in Azure.\n",
        "# Be sure to fill in the settings below which can be retrieved by running 'az quantum workspace show' in the terminal.\n",
        "from azure.quantum import Workspace"
      ],
      "outputs": [],
      "execution_count": null,
      "metadata": {
        "jupyter": {
          "source_hidden": false,
          "outputs_hidden": false
        },
        "nteract": {
          "transient": {
            "deleting": false
          }
        }
      }
    },
    {
      "cell_type": "markdown",
      "source": [
        "### Function to visualise your result"
      ],
      "metadata": {
        "nteract": {
          "transient": {
            "deleting": false
          }
        }
      }
    },
    {
      "cell_type": "code",
      "source": [
        "def visualize_result(result, containers, ships, target):\n",
        "    print(\"\\rResult received from: \", target)\n",
        "    nb_ships = len(ships)\n",
        "    try:\n",
        "        config = result['configuration']\n",
        "        config = list(config.values())\n",
        "        for ship, sub_config in enumerate(np.array_split(config, nb_ships)):\n",
        "            shipWeight = 0\n",
        "            for c,b in enumerate(sub_config):\n",
        "                shipWeight = shipWeight + b*containers[c]\n",
        "            print(f'Ship {ships[ship]}: \\t' + ''.join(f'{b*containers[c]}' for c,b in enumerate(sub_config)) + ' - ' + str(shipWeight))\n",
        "    except:\n",
        "        print('No Configuration')\n",
        "    try:\n",
        "        print('Cost: {}'.format(result['cost']))\n",
        "    except:\n",
        "        print('No Cost')\n",
        "    try:\n",
        "        print('Parameters: {}'.format(result['parameters']))\n",
        "    except:\n",
        "        print('No Parameter')"
      ],
      "outputs": [],
      "execution_count": null,
      "metadata": {
        "jupyter": {
          "source_hidden": false,
          "outputs_hidden": false
        },
        "nteract": {
          "transient": {
            "deleting": false
          }
        }
      }
    },
    {
      "cell_type": "markdown",
      "source": [
        "### Edit below function to create the terms for the weight variance cost"
      ],
      "metadata": {
        "nteract": {
          "transient": {
            "deleting": false
          }
        }
      }
    },
    {
      "cell_type": "code",
      "source": [
        "def AddTermsWeightVarianceCost(start, end, containers, EqDistrib):\n",
        "    terms: List[Term] = []\n",
        "    \n",
        "\n",
        "    return terms"
      ],
      "outputs": [],
      "execution_count": null,
      "metadata": {
        "jupyter": {
          "source_hidden": false,
          "outputs_hidden": false
        },
        "nteract": {
          "transient": {
            "deleting": false
          }
        }
      }
    },
    {
      "cell_type": "markdown",
      "source": [
        "### Edit below function to create the terns for duplicate container costs"
      ],
      "metadata": {
        "nteract": {
          "transient": {
            "deleting": false
          }
        }
      }
    },
    {
      "cell_type": "code",
      "source": [
        "def AddTermsDuplicateContainerCost(start, end, containers):\n",
        "    terms: List[Term] = []\n",
        "\n",
        "    return terms"
      ],
      "outputs": [],
      "execution_count": null,
      "metadata": {
        "jupyter": {
          "source_hidden": false,
          "outputs_hidden": false
        },
        "nteract": {
          "transient": {
            "deleting": false
          }
        }
      }
    },
    {
      "cell_type": "markdown",
      "source": [
        "### Edit below to implement the Equal Distribution calculation"
      ],
      "metadata": {
        "nteract": {
          "transient": {
            "deleting": false
          }
        }
      }
    },
    {
      "cell_type": "code",
      "source": [
        "def CalculateEqualDistribution(containerWeights, Ships):\n",
        "    \n",
        "    return 0,0"
      ],
      "outputs": [],
      "execution_count": null,
      "metadata": {
        "jupyter": {
          "source_hidden": false,
          "outputs_hidden": false
        },
        "nteract": {
          "transient": {
            "deleting": false
          }
        }
      }
    },
    {
      "cell_type": "markdown",
      "source": [
        "### Function which creates the problem"
      ],
      "metadata": {
        "nteract": {
          "transient": {
            "deleting": false
          }
        }
      }
    },
    {
      "cell_type": "code",
      "source": [
        "def createProblemForContainerWeights(containerWeights: List[int], Ships) -> List[Term]:\n",
        "\n",
        "    terms: List[Term] = []\n",
        "    containersWithinShip: List[int] = []\n",
        "    containersAcrossShips: List[int, int] = []\n",
        " \n",
        "    EqDistrib, totalWeight = CalculateEqualDistribution(containerWeights, Ships)\n",
        "    \n",
        "\n",
        "    print(Ships)\n",
        "    print(containerWeights)\n",
        "    print(\"Total Weight:\", totalWeight)\n",
        "    print(\"Equal weight distribution:\", EqDistrib)\n",
        "\n",
        "    # Create container weights in this format:\n",
        "    # 1  5  9  7  3  - 1  5  9  7  3  - 1   5   9   7   3\n",
        "    # W0 W1 W2 W3 W4   W5 W6 W7 W8 W9   W10 W11 W12 W13 W14 \n",
        "    containersWithinShip = containerWeights*len(Ships)\n",
        "\n",
        "    # Create container weights in this format:\n",
        "    # 1  1  1  5  5  5  9  9  9  7  7  7  3  3  3\n",
        "    for i in range(len(containerWeights)):\n",
        "        for j in range(len(Ships)):\n",
        "            k = i + j*len(containerWeights)\n",
        "            containersAcrossShips.append([containersWithinShip[i], k])\n",
        "\n",
        "    for split in np.array_split(range(len(containersWithinShip)), len(Ships)):\n",
        "        terms = terms + AddTermsWeightVarianceCost(split[0], split[-1], containersWithinShip, EqDistrib)\n",
        "\n",
        "    for split in np.array_split(range(len(containersAcrossShips)), len(containerWeights)):\n",
        "        terms = terms + AddTermsDuplicateContainerCost(split[0], split[-1], containersAcrossShips)\n",
        "\n",
        "    return terms"
      ],
      "outputs": [],
      "execution_count": null,
      "metadata": {
        "jupyter": {
          "source_hidden": false,
          "outputs_hidden": false
        },
        "nteract": {
          "transient": {
            "deleting": false
          }
        }
      }
    },
    {
      "cell_type": "markdown",
      "source": [
        "### Function to solve the problem"
      ],
      "metadata": {
        "nteract": {
          "transient": {
            "deleting": false
          }
        }
      }
    },
    {
      "cell_type": "code",
      "source": [
        "def SolveMyProblem(problem, s):\n",
        "    try:\n",
        "        # Optimize the problem\n",
        "        print(\"Optimizing with:\", s.target)\n",
        "        Job = s.submit(problem)\n",
        "        Job.wait_until_completed()\n",
        "        duration = Job.details.end_execution_time - Job.details.begin_execution_time\n",
        "        if (Job.details.status == \"Succeeded\"):\n",
        "            visualize_result(Job.get_results(), containerWeights*len(Ships), Ships, s.target)\n",
        "            print(\"Execution duration: \", duration)\n",
        "        else:\n",
        "            print(\"\\rJob ID\", Job.id, \"failed\")\n",
        "    except BaseException as e:\n",
        "        print(e)"
      ],
      "outputs": [],
      "execution_count": null,
      "metadata": {
        "jupyter": {
          "source_hidden": false,
          "outputs_hidden": false
        },
        "nteract": {
          "transient": {
            "deleting": false
          }
        }
      }
    },
    {
      "cell_type": "markdown",
      "source": [
        "### Main\n",
        "#### add your problem type here"
      ],
      "metadata": {
        "nteract": {
          "transient": {
            "deleting": false
          }
        }
      }
    },
    {
      "cell_type": "code",
      "source": [
        "def main(containerWeights: List[int], Ships: List[str], workspace ):\n",
        "    terms = createProblemForContainerWeights(containerWeights,Ships)\n",
        "\n",
        "    # Create the Problem to submit to the solver:\n",
        "    nbTerms = len(terms)\n",
        "    problemName = f'Balancing {str(len(containerWeights))} containers between {str(len(Ships))} Ships ({nbTerms:,} terms)'\n",
        "    print(problemName)\n",
        "\n",
        "    #Input your problem type here\n",
        "    problem = Problem(name=problemName, problem_type=, terms=terms)\n",
        "    jobid = SolveMyProblem(problem, SimulatedAnnealing(workspace, timeout=10))"
      ],
      "outputs": [],
      "execution_count": null,
      "metadata": {
        "jupyter": {
          "source_hidden": false,
          "outputs_hidden": false
        },
        "nteract": {
          "transient": {
            "deleting": false
          }
        }
      }
    },
    {
      "cell_type": "markdown",
      "source": [
        "### Test your code with a list of containers and ships"
      ],
      "metadata": {
        "nteract": {
          "transient": {
            "deleting": false
          }
        }
      }
    },
    {
      "cell_type": "code",
      "source": [
        "containerWeights = [3, 8, 3, 4, 1, 5, 2, 2, 7, 9, 5, 4, 8, 9, 4, 6, 8, 7, 6, 2, 2, 9, 4, 6, 3, 8, 5, 7, 2, 4, 9, 4]\n",
        "Ships = [\"A\", \"B\", \"C\", \"D\", \"E\"]\n",
        "workspace = Workspace (\n",
        "subscription_id = \"\",\n",
        "resource_group = \"\",\n",
        "name = \"\",\n",
        "location = \"\"\n",
        ")\n",
        "main(containerWeights, Ships, workspace)"
      ],
      "outputs": [],
      "execution_count": null,
      "metadata": {
        "jupyter": {
          "source_hidden": false,
          "outputs_hidden": false
        },
        "nteract": {
          "transient": {
            "deleting": false
          }
        }
      }
    }
  ],
  "metadata": {
    "nteract": {
      "version": "nteract-front-end@1.0.0"
    },
    "language_info": {
      "name": "python",
      "version": "3.7.12",
      "mimetype": "text/x-python",
      "codemirror_mode": {
        "name": "ipython",
        "version": 3
      },
      "pygments_lexer": "ipython3",
      "nbconvert_exporter": "python",
      "file_extension": ".py"
    },
    "kernelspec": {
      "name": "python3",
      "language": "python",
      "display_name": "Python 3 (ipykernel)"
    },
    "kernel_info": {
      "name": "python3"
    }
  },
  "nbformat": 4,
  "nbformat_minor": 0
}