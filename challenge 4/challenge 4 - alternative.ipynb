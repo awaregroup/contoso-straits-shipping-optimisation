{
  "cells": [
    {
      "cell_type": "code",
      "source": [
        "from azure.quantum.optimization import (\n",
        "    Term,\n",
        "    Problem,\n",
        "    ProblemType,\n",
        "    SimulatedAnnealing,\n",
        ")\n",
        "from azure.quantum import Workspace\n",
        "from azure.quantum.target.solvers import RangeSchedule\n",
        "import numpy as np\n"
      ],
      "outputs": [],
      "execution_count": null,
      "metadata": {
        "jupyter": {
          "source_hidden": false,
          "outputs_hidden": false
        },
        "nteract": {
          "transient": {
            "deleting": false
          }
        }
      }
    },
    {
      "cell_type": "markdown",
      "source": [
        "### Function to visualise your result"
      ],
      "metadata": {
        "nteract": {
          "transient": {
            "deleting": false
          }
        }
      }
    },
    {
      "cell_type": "code",
      "source": [
        "def visualize_result(result, containers, ships):\n",
        "    nb_ships = len(ships)\n",
        "    try:\n",
        "        config = result[\"configuration\"]\n",
        "        config = list(config.values())\n",
        "        for ship, sub_config in enumerate(np.array_split(config, nb_ships)):\n",
        "            shipWeight = 0\n",
        "            for c, b in enumerate(sub_config):\n",
        "                shipWeight = shipWeight + b * containers[c]\n",
        "            print(\n",
        "                f\"Ship {ships[ship]}: \\t\"\n",
        "                + \"|\".join(f\"{b*containers[c]}\" for c, b in enumerate(sub_config))\n",
        "                + \" - \"\n",
        "                + str(shipWeight)\n",
        "            )\n",
        "    except:\n",
        "        print(\"No Configuration\")\n",
        "    try:\n",
        "        print(\"Cost: {}\".format(result[\"cost\"]))\n",
        "    except:\n",
        "        print(\"No Cost\")\n",
        "    try:\n",
        "        print(\"Parameters: {}\".format(result[\"parameters\"]))\n",
        "    except:\n",
        "        print(\"No Parameter\")"
      ],
      "outputs": [],
      "execution_count": null,
      "metadata": {
        "jupyter": {
          "source_hidden": false,
          "outputs_hidden": false
        },
        "nteract": {
          "transient": {
            "deleting": false
          }
        }
      }
    },
    {
      "cell_type": "markdown",
      "source": [
        "### Function which submits the problem"
      ],
      "metadata": {
        "nteract": {
          "transient": {
            "deleting": false
          }
        }
      }
    },
    {
      "cell_type": "code",
      "source": [
        "def solve_problem(problem, s):\n",
        "    try:\n",
        "        # Optimize the problem\n",
        "        Job = s.submit(problem)\n",
        "        Job.wait_until_completed()\n",
        "        duration = Job.details.end_execution_time - Job.details.begin_execution_time\n",
        "        if Job.details.status == \"Succeeded\":\n",
        "            visualize_result(Job.get_results(), container_weights * len(ships), ships)\n",
        "            print(\"Execution duration: \", duration)\n",
        "        else:\n",
        "            print(\"\\rJob ID\", Job.id, \"failed\")\n",
        "    except BaseException as e:\n",
        "        print(e)\n",
        "    return Job.id"
      ],
      "outputs": [],
      "execution_count": null,
      "metadata": {
        "jupyter": {
          "source_hidden": false,
          "outputs_hidden": false
        },
        "nteract": {
          "transient": {
            "deleting": false
          }
        }
      }
    },
    {
      "cell_type": "markdown",
      "source": [
        "### Edit below to implement the Equal Distribution calculation"
      ],
      "metadata": {
        "nteract": {
          "transient": {
            "deleting": false
          }
        }
      }
    },
    {
      "cell_type": "code",
      "source": [
        "def calculate_equal_distribution(container_weights, num_ships):\n",
        "    #Implement equal distribution here\n",
        "    return eq_dis"
      ],
      "outputs": [],
      "execution_count": null,
      "metadata": {
        "jupyter": {
          "source_hidden": false,
          "outputs_hidden": false
        },
        "nteract": {
          "transient": {
            "deleting": false
          }
        }
      }
    },
    {
      "cell_type": "markdown",
      "source": [
        "### Edit below function to define your cost terms"
      ],
      "metadata": {
        "nteract": {
          "transient": {
            "deleting": false
          }
        }
      }
    },
    {
      "cell_type": "code",
      "source": [
        "def define_cost_terms(container_weights, num_ships, num_containers, eq_dis):\n",
        "    terms = []\n",
        "    #Define your cost terms here\n",
        "    return terms"
      ],
      "outputs": [],
      "execution_count": null,
      "metadata": {
        "jupyter": {
          "source_hidden": false,
          "outputs_hidden": false
        },
        "nteract": {
          "transient": {
            "deleting": false
          }
        }
      }
    },
    {
      "cell_type": "markdown",
      "source": [
        "### Edit below function to define your penalty terms"
      ],
      "metadata": {
        "nteract": {
          "transient": {
            "deleting": false
          }
        }
      }
    },
    {
      "cell_type": "code",
      "source": [
        "def define_penalty_terms(container_weights, num_ships, num_containers):\n",
        "    terms = []\n",
        "    #define penalty terms here\n",
        "    return terms"
      ],
      "outputs": [],
      "execution_count": null,
      "metadata": {
        "jupyter": {
          "source_hidden": false,
          "outputs_hidden": false
        },
        "nteract": {
          "transient": {
            "deleting": false
          }
        }
      }
    },
    {
      "cell_type": "markdown",
      "source": [
        "### Main\n",
        "#### add your problem type here"
      ],
      "metadata": {
        "nteract": {
          "transient": {
            "deleting": false
          }
        }
      }
    },
    {
      "cell_type": "code",
      "source": [
        "def main(container_weights, ships):\n",
        "    # Copy the settings for your workspace below\n",
        "    workspace = Workspace(\n",
        "        subscription_id=\"\",\n",
        "        resource_group=\"\",\n",
        "        name=\"\",\n",
        "        location=\"\",\n",
        "    )\n",
        "\n",
        "    num_ships = len(ships)\n",
        "    num_containers = len(container_weights)\n",
        "\n",
        "    eq_dis = calculate_equal_distribution(container_weights, num_ships)\n",
        "\n",
        "    terms = define_cost_terms(container_weights, num_ships, num_containers, eq_dis) + define_penalty_terms(container_weights, num_ships, num_containers)\n",
        "\n",
        "\n",
        "    num_terms = len(terms)\n",
        "    problemName = f\"Balancing {num_containers} containers between {num_ships} ships ({num_terms:,} terms)\"\n",
        "    \n",
        "    \n",
        "    #choose the correct problem type for this problem\n",
        "    problem = Problem(name=problemName, problem_type='', terms=terms)\n",
        "    solver = SimulatedAnnealing(workspace, timeout=5)\n",
        "    jobid = solve_problem(problem, solver)"
      ],
      "outputs": [],
      "execution_count": null,
      "metadata": {
        "jupyter": {
          "source_hidden": false,
          "outputs_hidden": false
        },
        "nteract": {
          "transient": {
            "deleting": false
          }
        }
      }
    },
    {
      "cell_type": "markdown",
      "source": [
        "### Run your code with list of ships and containers"
      ],
      "metadata": {
        "nteract": {
          "transient": {
            "deleting": false
          }
        }
      }
    },
    {
      "cell_type": "code",
      "source": [
        "container_weights = [\n",
        "        3,\n",
        "        8,\n",
        "        3,\n",
        "        4,\n",
        "        1,\n",
        "        5,\n",
        "        2,\n",
        "        2,\n",
        "        7,\n",
        "        9,\n",
        "        5,\n",
        "        4,\n",
        "        8,\n",
        "        9,\n",
        "        4,\n",
        "        6,\n",
        "        8,\n",
        "        7,\n",
        "        6,\n",
        "        2,\n",
        "        2,\n",
        "        9,\n",
        "        4,\n",
        "        6,\n",
        "        3,\n",
        "        8,\n",
        "        5,\n",
        "        7,\n",
        "        2,\n",
        "        4,\n",
        "        9,\n",
        "        4,\n",
        "    ]\n",
        "ships = [\"A\", \"B\", \"C\", \"D\", \"E\"]\n",
        "main(container_weights, ships)"
      ],
      "outputs": [],
      "execution_count": null,
      "metadata": {
        "jupyter": {
          "source_hidden": false,
          "outputs_hidden": false
        },
        "nteract": {
          "transient": {
            "deleting": false
          }
        }
      }
    }
  ],
  "metadata": {
    "language_info": {
      "name": "python",
      "version": "3.7.12",
      "mimetype": "text/x-python",
      "codemirror_mode": {
        "name": "ipython",
        "version": 3
      },
      "pygments_lexer": "ipython3",
      "nbconvert_exporter": "python",
      "file_extension": ".py"
    },
    "kernelspec": {
      "name": "python3",
      "language": "python",
      "display_name": "Python 3 (ipykernel)"
    },
    "kernel_info": {
      "name": "python3"
    },
    "nteract": {
      "version": "nteract-front-end@1.0.0"
    }
  },
  "nbformat": 4,
  "nbformat_minor": 0
}