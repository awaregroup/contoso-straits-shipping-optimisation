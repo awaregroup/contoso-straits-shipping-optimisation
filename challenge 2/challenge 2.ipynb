{
  "cells": [
    {
      "cell_type": "code",
      "source": [
        "from azure.quantum import Workspace\n",
        "from azure.quantum.optimization import ParallelTempering\n",
        "import time\n",
        "\n",
        "\n",
        "\n",
        "# Take an array of container weights and return a Problem object that represents the cost function\n",
        "from typing import List\n",
        "from azure.quantum.optimization import Problem, ProblemType, Term"
      ],
      "outputs": [],
      "execution_count": null,
      "metadata": {
        "jupyter": {
          "source_hidden": false,
          "outputs_hidden": false
        },
        "nteract": {
          "transient": {
            "deleting": false
          }
        }
      }
    },
    {
      "cell_type": "markdown",
      "source": [
        "### Edit the below cell to create your list of terms"
      ],
      "metadata": {
        "nteract": {
          "transient": {
            "deleting": false
          }
        }
      }
    },
    {
      "cell_type": "code",
      "source": [
        "def create_problem_for_container_weights(container_weights: List[int]) -> Problem:\n",
        "    terms: List[Term] = []\n",
        "    '''\n",
        "    create your terms list here\n",
        "    '''\n",
        "\n",
        "    # Choose the appropriate problem_type\n",
        "    return Problem(name=\"Ship Sample Problem\", problem_type='', terms=terms)"
      ],
      "outputs": [],
      "execution_count": null,
      "metadata": {
        "jupyter": {
          "source_hidden": false,
          "outputs_hidden": false
        },
        "nteract": {
          "transient": {
            "deleting": false
          }
        }
      }
    },
    {
      "cell_type": "markdown",
      "source": [
        "### Print out a summary of the results "
      ],
      "metadata": {
        "nteract": {
          "transient": {
            "deleting": false
          }
        }
      }
    },
    {
      "cell_type": "code",
      "source": [
        "def print_result_summary(result):\n",
        "    # Print a summary of the result\n",
        "    ship_a_weight = 0\n",
        "    ship_b_weight = 0\n",
        "    for container in result['configuration']:\n",
        "        container_assignment = result['configuration'][container]\n",
        "        container_weight = container_weights[int(container)]\n",
        "        ship = ''\n",
        "        if container_assignment == 1:\n",
        "            ship = 'A'\n",
        "            ship_a_weight += container_weight\n",
        "        else:\n",
        "            ship = 'B'\n",
        "            ship_b_weight += container_weight\n",
        "\n",
        "        print(f'Container {container} with weight {container_weight} was placed on Ship {ship}')\n",
        "\n",
        "    print(f'\\nTotal weights: \\n\\tShip A: {ship_a_weight} tonnes \\n\\tShip B: {ship_b_weight} tonnes\\n')"
      ],
      "outputs": [],
      "execution_count": null,
      "metadata": {
        "jupyter": {
          "source_hidden": false,
          "outputs_hidden": false
        },
        "nteract": {
          "transient": {
            "deleting": false
          }
        }
      }
    },
    {
      "cell_type": "markdown",
      "source": [
        "### We can reduce the number of terms by removing duplicates\n",
        "#### In code, this means a small modification to the create_problem_for_container_weights function:"
      ],
      "metadata": {
        "nteract": {
          "transient": {
            "deleting": false
          }
        }
      }
    },
    {
      "cell_type": "code",
      "source": [
        "def create_simplified_problem_for_container_weights(container_weights: List[int]) -> Problem:\n",
        "    terms: List[Term] = []\n",
        "\n",
        "    # implement a simplified term set here\n",
        "\n",
        "    # Return an Ising-type problem\n",
        "    return Problem(name=\"Ship Sample Problem (Simplified)\", problem_type='', terms=terms)"
      ],
      "outputs": [],
      "execution_count": null,
      "metadata": {
        "jupyter": {
          "source_hidden": false,
          "outputs_hidden": false
        },
        "nteract": {
          "transient": {
            "deleting": false
          }
        }
      }
    },
    {
      "cell_type": "markdown",
      "source": [
        "### Function to use with Optimised terms list"
      ],
      "metadata": {
        "nteract": {
          "transient": {
            "deleting": false
          }
        }
      }
    },
    {
      "cell_type": "code",
      "source": [
        "def optimise_the_problem(container_weights : List[int], solver) -> None:\n",
        "    simplified_problem = create_simplified_problem_for_container_weights(container_weights)\n",
        "    print(f'\\nThe simplified problem has {len(simplified_problem.terms)} terms')\n",
        "\n",
        "    # Optimize the problem\n",
        "    print('\\nSubmitting simplified problem...')\n",
        "    start = time.time()\n",
        "    simplified_result = solver.optimize(simplified_problem)\n",
        "    time_elapsed_simplified = time.time() - start\n",
        "    print(f'\\nResult in {time_elapsed_simplified} seconds:\\n{simplified_result}\\n')\n",
        "    print_result_summary(simplified_result)"
      ],
      "outputs": [],
      "execution_count": null,
      "metadata": {
        "jupyter": {
          "source_hidden": false,
          "outputs_hidden": false
        },
        "nteract": {
          "transient": {
            "deleting": false
          }
        }
      }
    },
    {
      "cell_type": "markdown",
      "source": [
        "### Main"
      ],
      "metadata": {
        "nteract": {
          "transient": {
            "deleting": false
          }
        }
      }
    },
    {
      "cell_type": "code",
      "source": [
        "def main(container_weights: List[int])-> None:\n",
        "    # Copy the settings for your workspace below\n",
        "    workspace = Workspace (\n",
        "        subscription_id = \"\",\n",
        "        resource_group = \"\",\n",
        "        name = \"\",\n",
        "        location = \"\"\n",
        "    )\n",
        "    # Create a problem for the list of containers:\n",
        "    problem = create_problem_for_container_weights(container_weights)\n",
        "\n",
        "    # Instantiate a solver to solve the problem.\n",
        "    solver = ParallelTempering(workspace, timeout=100)\n",
        "\n",
        "    # Optimize the problem\n",
        "    print('Submitting problem...')\n",
        "    start = time.time()\n",
        "    result = solver.optimize(problem)\n",
        "    timeElapsed = time.time() - start\n",
        "    print(f'\\nResult in {timeElapsed} seconds:\\n{result}\\n')\n",
        "    \n",
        "    print_result_summary(result)\n",
        "\n",
        "    # Improving the Cost Function\n",
        "    # The cost function we've built works well so far, but let's take a closer look at the `Problem` that was generated:\n",
        "    print(f'\\nThe original problem has {len(problem.terms)} terms for {len(container_weights)} containers:')\n",
        "    print(problem.terms)\n",
        "\n",
        "    #Uncomment below if you have implemented create_simplified_problem_for_container_weights\n",
        "    #optimise_the_problem(container_weights, solver)"
      ],
      "outputs": [],
      "execution_count": null,
      "metadata": {
        "jupyter": {
          "source_hidden": false,
          "outputs_hidden": false
        },
        "nteract": {
          "transient": {
            "deleting": false
          }
        }
      }
    },
    {
      "cell_type": "markdown",
      "source": [
        "### Call your main function in the cell below"
      ],
      "metadata": {
        "nteract": {
          "transient": {
            "deleting": false
          }
        }
      }
    },
    {
      "cell_type": "code",
      "source": [
        "container_weights = [1, 5, 9, 21, 35, 5, 3, 5, 10, 11]\n",
        "main(container_weights)"
      ],
      "outputs": [],
      "execution_count": null,
      "metadata": {
        "jupyter": {
          "source_hidden": false,
          "outputs_hidden": false
        },
        "nteract": {
          "transient": {
            "deleting": false
          }
        }
      }
    }
  ],
  "metadata": {
    "language_info": {
      "name": "python",
      "version": "3.7.12",
      "mimetype": "text/x-python",
      "codemirror_mode": {
        "name": "ipython",
        "version": 3
      },
      "pygments_lexer": "ipython3",
      "nbconvert_exporter": "python",
      "file_extension": ".py"
    },
    "kernelspec": {
      "name": "python3",
      "language": "python",
      "display_name": "Python 3 (ipykernel)"
    },
    "kernel_info": {
      "name": "python3"
    },
    "nteract": {
      "version": "nteract-front-end@1.0.0"
    }
  },
  "nbformat": 4,
  "nbformat_minor": 0
}